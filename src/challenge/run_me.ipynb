{
 "cells": [
  {
   "cell_type": "markdown",
   "metadata": {},
   "source": [
    "Generate Data"
   ]
  },
  {
   "cell_type": "code",
   "execution_count": 45,
   "metadata": {},
   "outputs": [],
   "source": [
    "import numpy as np\n",
    "\n",
    "num_samples = 500\n",
    "num_modes = 2\n",
    "mu = [-2, 4]\n",
    "sigma = [0.5, 2]\n",
    "\n",
    "\n",
    "which_mode = np.random.multinomial(1, [0.5]*2, size = num_samples)\n",
    "samples = np.random.normal(loc = mu[0], scale = sigma[0], size = num_samples) * which_mode[:,0] + np.random.normal(loc = mu[1], scale = sigma[1], size = num_samples) * which_mode[:,1]"
   ]
  },
  {
   "cell_type": "code",
   "execution_count": 48,
   "metadata": {},
   "outputs": [
    {
     "data": {
      "text/plain": [
       "(array([  6.,  34., 116.,  78.,   6.,   3.,   6.,  18.,  19.,  26.,  26.,\n",
       "         33.,  28.,  25.,  25.,  25.,  13.,   6.,   4.,   3.]),\n",
       " array([-3.70407783, -3.06732265, -2.43056748, -1.79381231, -1.15705714,\n",
       "        -0.52030197,  0.1164532 ,  0.75320837,  1.38996354,  2.02671871,\n",
       "         2.66347388,  3.30022905,  3.93698422,  4.57373939,  5.21049456,\n",
       "         5.84724973,  6.4840049 ,  7.12076007,  7.75751524,  8.39427041,\n",
       "         9.03102558]),\n",
       " <BarContainer object of 20 artists>)"
      ]
     },
     "execution_count": 48,
     "metadata": {},
     "output_type": "execute_result"
    },
    {
     "data": {
      "image/png": "[encoded data removed]",
      "text/plain": [
       "<Figure size 432x288 with 1 Axes>"
      ]
     },
     "metadata": {
      "needs_background": "light"
     },
     "output_type": "display_data"
    }
   ],
   "source": [
    "import matplotlib.pyplot as plt\n",
    "\n",
    "plt.hist(samples, bins = 20)"
   ]
  }
 ],
 "metadata": {
  "kernelspec": {
   "display_name": "Python 3.10.2 64-bit",
   "language": "python",
   "name": "python3"
  },
  "language_info": {
   "codemirror_mode": {
    "name": "ipython",
    "version": 3
   },
   "file_extension": ".py",
   "mimetype": "text/x-python",
   "name": "python",
   "nbconvert_exporter": "python",
   "pygments_lexer": "ipython3",
   "version": "3.10.2"
  },
  "orig_nbformat": 4,
  "vscode": {
   "interpreter": {
    "hash": "dc07112e7ae1e8e28a0232207620ff002934c05692de8df42430404c766a0a8a"
   }
  }
 },
 "nbformat": 4,
 "nbformat_minor": 2
}
